{
 "cells": [
  {
   "cell_type": "code",
   "execution_count": null,
   "metadata": {
    "vscode": {
     "languageId": "sql"
    }
   },
   "outputs": [],
   "source": [
    "-- 2 using or operator\n",
    "select \"Car\", \"MPG\", \"Cylinders\",\"Weight\"\n",
    "from cars\n",
    "where \"MPG\" = 17 OR \"MPG\" = 15"
   ]
  }
 ],
 "metadata": {
  "language_info": {
   "name": "python"
  }
 },
 "nbformat": 4,
 "nbformat_minor": 2
}

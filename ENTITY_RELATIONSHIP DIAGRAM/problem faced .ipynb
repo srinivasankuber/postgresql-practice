{
 "cells": [
  {
   "cell_type": "code",
   "execution_count": null,
   "metadata": {
    "vscode": {
     "languageId": "sql"
    }
   },
   "outputs": [],
   "source": [
    "Problems Faced with ER Diagrams:\n",
    "    1. Miscommunication: Different stakeholders may interpret the diagram differently, leading to misunderstandings about the data model.\n",
    "    2. Scope Creep: As requirements change, the ER diagram may need significant revisions, leading to potential scope creep in the project.\n",
    "    3. Difficulty in Changes: Making changes to the ER diagram can be cumbersome, especially if the relationships and entities are tightly interwoven.\n",
    "    4. Tool Limitations: Depending on the tools used to create ER diagrams, there may be limitations in functionality, such as the inability to represent certain data types or relationships."
   ]
  }
 ],
 "metadata": {
  "language_info": {
   "name": "python"
  }
 },
 "nbformat": 4,
 "nbformat_minor": 2
}

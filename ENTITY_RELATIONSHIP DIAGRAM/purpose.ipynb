{
 "cells": [
  {
   "cell_type": "code",
   "execution_count": null,
   "metadata": {
    "vscode": {
     "languageId": "sql"
    }
   },
   "outputs": [],
   "source": [
    "1 )Entity-Relationship (ER) diagrams:\n",
    "Purpose of ER Diagrams:\n",
    "    1. Visual Representation: ER diagrams provide a clear visual representation of the data model, showing entities, attributes, and relationships.\n",
    "    2. Database Design: They help in designing the database schema by illustrating how data is structured and how different entities relate to one another.\n",
    "    3. Communication Tool: ER diagrams serve as a communication tool between technical and non-technical stakeholders, facilitating discussions about the database design.\n",
    "    4. Requirement Gathering: They assist in gathering and clarifying requirements by mapping out how data will be stored and accessed.\n",
    "    5. Documentation: ER diagrams act as documentation for the database design, making it easier for developers and database administrators to understand the schema."
   ]
  }
 ],
 "metadata": {
  "language_info": {
   "name": "python"
  }
 },
 "nbformat": 4,
 "nbformat_minor": 2
}

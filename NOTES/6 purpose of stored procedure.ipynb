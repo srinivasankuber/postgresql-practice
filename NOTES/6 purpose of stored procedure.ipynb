{
 "cells": [
  {
   "cell_type": "code",
   "execution_count": null,
   "metadata": {
    "vscode": {
     "languageId": "sql"
    }
   },
   "outputs": [],
   "source": [
    "Purpose of Stored Procedures in PostgreSQL\n",
    "    1. Encapsulation of Business Logic: Store complex business logic directly in the database, making it easier to manage and maintain.\n",
    "    2. Performance Optimization: Reduce network traffic and improve performance by executing multiple SQL statements in a single call.\n",
    "    3. Reusability: Write once and reuse stored procedures across different applications, ensuring consistency in business logic.\n",
    "    4. Security: Enhance security by controlling access to data through procedures, limiting direct access to underlying tables.\n",
    "    5. Modularity: Break down complex tasks into smaller, manageable procedures, improving code organization and readability"
   ]
  }
 ],
 "metadata": {
  "language_info": {
   "name": "python"
  }
 },
 "nbformat": 4,
 "nbformat_minor": 2
}

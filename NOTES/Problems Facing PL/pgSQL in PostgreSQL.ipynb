{
 "cells": [
  {
   "cell_type": "code",
   "execution_count": null,
   "metadata": {},
   "outputs": [],
   "source": [
    "Problems Facing PL/pgSQL in PostgreSQL\n",
    "    10. Learning Curve: Developers familiar with standard SQL may find the procedural aspects of PL/pgSQL difficult to learn and apply effectively."
   ]
  }
 ],
 "metadata": {
  "language_info": {
   "name": "python"
  }
 },
 "nbformat": 4,
 "nbformat_minor": 2
}

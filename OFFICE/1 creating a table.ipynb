{
 "cells": [
  {
   "cell_type": "code",
   "execution_count": null,
   "metadata": {
    "vscode": {
     "languageId": "sql"
    }
   },
   "outputs": [],
   "source": [
    "--creating a table\n",
    "create table workers\n",
    "(\n",
    "\"pID\" integer,\n",
    "\"EmpPosition\" varchar(12),\n",
    "\"DateOfJoining\" varchar(10),\n",
    "\"Salary\" integer\n",
    ")"
   ]
  }
 ],
 "metadata": {
  "language_info": {
   "name": "python"
  }
 },
 "nbformat": 4,
 "nbformat_minor": 2
}

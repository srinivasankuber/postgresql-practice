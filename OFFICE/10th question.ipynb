{
 "cells": [
  {
   "cell_type": "code",
   "execution_count": null,
   "metadata": {
    "vscode": {
     "languageId": "sql"
    }
   },
   "outputs": [],
   "source": [
    " -- 10. Retrieve employees who joined on or after February 2020.\n",
    "       \n",
    "       SELECT * \n",
    "\t   FROM workers \n",
    "\t   WHERE \"DateOfJoining\" >= '02/01/2020';"
   ]
  }
 ],
 "metadata": {
  "language_info": {
   "name": "python"
  }
 },
 "nbformat": 4,
 "nbformat_minor": 2
}

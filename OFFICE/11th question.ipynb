{
 "cells": [
  {
   "cell_type": "code",
   "execution_count": null,
   "metadata": {
    "vscode": {
     "languageId": "sql"
    }
   },
   "outputs": [],
   "source": [
    "-- 11. Calculate the average salary for all employees.\n",
    "       \n",
    "    SELECT AVG(\"Salary\") AS AverageSalary \n",
    "\tFROM workers \n",
    "    WHERE \"Salary\" IS NOT NULL;"
   ]
  }
 ],
 "metadata": {
  "language_info": {
   "name": "python"
  }
 },
 "nbformat": 4,
 "nbformat_minor": 2
}

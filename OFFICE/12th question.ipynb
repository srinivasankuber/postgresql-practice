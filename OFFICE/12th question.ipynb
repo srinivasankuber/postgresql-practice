{
 "cells": [
  {
   "cell_type": "code",
   "execution_count": null,
   "metadata": {
    "vscode": {
     "languageId": "sql"
    }
   },
   "outputs": [],
   "source": [
    " -- 12. Find the total salary expenditure of the company.\n",
    "      \n",
    "       SELECT SUM(\"Salary\") AS TotalSalary\n",
    "\t   FROM workers \n",
    "\t   WHERE \"Salary\" IS NOT NULL;\n",
    "       --the word expenditure -\"selavu\""
   ]
  }
 ],
 "metadata": {
  "language_info": {
   "name": "python"
  }
 },
 "nbformat": 4,
 "nbformat_minor": 2
}

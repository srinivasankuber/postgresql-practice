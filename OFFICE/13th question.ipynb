{
 "cells": [
  {
   "cell_type": "code",
   "execution_count": null,
   "metadata": {
    "vscode": {
     "languageId": "sql"
    }
   },
   "outputs": [],
   "source": [
    "    -- 13. Find the maximum salary for the position 'Manger'.\n",
    "      \n",
    "       SELECT MAX(\"Salary\") AS MaxSalary \n",
    "\t   FROM workers \n",
    "\t   WHERE \"EmpPosition\" = 'Manger';"
   ]
  }
 ],
 "metadata": {
  "language_info": {
   "name": "python"
  }
 },
 "nbformat": 4,
 "nbformat_minor": 2
}

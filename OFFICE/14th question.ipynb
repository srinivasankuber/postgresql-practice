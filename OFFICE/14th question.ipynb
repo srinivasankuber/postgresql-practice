{
 "cells": [
  {
   "cell_type": "code",
   "execution_count": null,
   "metadata": {
    "vscode": {
     "languageId": "sql"
    }
   },
   "outputs": [],
   "source": [
    "\n",
    "    -- 14. Retrieve employees whose salary is between 50,000 and 100,000.\n",
    "       \n",
    "       SELECT * \n",
    "\t   FROM workers \n",
    "\t   WHERE \"Salary\" BETWEEN 50000 AND 100000;"
   ]
  }
 ],
 "metadata": {
  "language_info": {
   "name": "python"
  }
 },
 "nbformat": 4,
 "nbformat_minor": 2
}

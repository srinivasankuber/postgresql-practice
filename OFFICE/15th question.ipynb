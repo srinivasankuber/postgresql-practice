{
 "cells": [
  {
   "cell_type": "code",
   "execution_count": null,
   "metadata": {
    "vscode": {
     "languageId": "sql"
    }
   },
   "outputs": [],
   "source": [
    "    -- 15. Count the number of employees for each position.\n",
    "      \n",
    "      SELECT \"EmpPosition\", COUNT(*) AS PositionCount \n",
    "      FROM workers \n",
    "      GROUP BY \"EmpPosition\";"
   ]
  }
 ],
 "metadata": {
  "language_info": {
   "name": "python"
  }
 },
 "nbformat": 4,
 "nbformat_minor": 2
}

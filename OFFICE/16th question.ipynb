{
 "cells": [
  {
   "cell_type": "code",
   "execution_count": null,
   "metadata": {
    "vscode": {
     "languageId": "sql"
    }
   },
   "outputs": [],
   "source": [
    " -- 16. List the top 3 highest-paid employees.\n",
    "       \n",
    "    SELECT * \n",
    "\tFROM workers \n",
    "\tORDER BY \"Salary\" DESC LIMIT 3;"
   ]
  }
 ],
 "metadata": {
  "language_info": {
   "name": "python"
  }
 },
 "nbformat": 4,
 "nbformat_minor": 2
}

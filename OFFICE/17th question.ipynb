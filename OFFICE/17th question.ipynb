{
 "cells": [
  {
   "cell_type": "code",
   "execution_count": null,
   "metadata": {
    "vscode": {
     "languageId": "sql"
    }
   },
   "outputs": [],
   "source": [
    "-- 17. Find the average salary of 'Officer' positions.\n",
    "       \n",
    "    SELECT AVG(\"Salary\") AS AverageOfficerSalary \n",
    "\tFROM workers \n",
    "\tWHERE \"EmpPosition\" = 'Officer';"
   ]
  }
 ],
 "metadata": {
  "language_info": {
   "name": "python"
  }
 },
 "nbformat": 4,
 "nbformat_minor": 2
}

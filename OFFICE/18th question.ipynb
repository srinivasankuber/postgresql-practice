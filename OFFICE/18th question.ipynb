{
 "cells": [
  {
   "cell_type": "code",
   "execution_count": null,
   "metadata": {
    "vscode": {
     "languageId": "sql"
    }
   },
   "outputs": [],
   "source": [
    "-- 18 Find the minimum salary in the company.\n",
    "       \n",
    "       SELECT MIN(\"Salary\") AS MinSalary \n",
    "\t   FROM workers \n",
    "\t   WHERE \"Salary\" IS NOT NULL;\n"
   ]
  }
 ],
 "metadata": {
  "language_info": {
   "name": "python"
  }
 },
 "nbformat": 4,
 "nbformat_minor": 2
}

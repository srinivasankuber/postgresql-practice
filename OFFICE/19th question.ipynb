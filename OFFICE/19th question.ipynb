{
 "cells": [
  {
   "cell_type": "code",
   "execution_count": null,
   "metadata": {
    "vscode": {
     "languageId": "sql"
    }
   },
   "outputs": [],
   "source": [
    "-- 19-- Retrieve employees who have a salary less than 100,000.\n",
    "  SELECT * \n",
    "  FROM workers \n",
    "  WHERE \"Salary\" < 100000;"
   ]
  }
 ],
 "metadata": {
  "language_info": {
   "name": "python"
  }
 },
 "nbformat": 4,
 "nbformat_minor": 2
}

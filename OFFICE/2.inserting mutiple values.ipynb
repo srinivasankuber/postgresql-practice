{
 "cells": [
  {
   "cell_type": "code",
   "execution_count": null,
   "metadata": {
    "vscode": {
     "languageId": "sql"
    }
   },
   "outputs": [],
   "source": [
    "--  insert into employeepoint(\"pID\", \"EmpPosition\", \"DateOfJoining\", \"Salary\")\n",
    "--  values\n",
    "--      (1, 'Excecutive', '01/08/2020', 75000),\n",
    "--      (2, 'Manger', '03/04/2020', 500000),\n",
    "--  \t(3, 'Manger', '02/04/2020', 150000),\n",
    "--  \t(2, 'Officer', '02/09/2020', 90000),\n",
    "--      (1, 'Manager', '03/10/2020',300),\n",
    "--  \t(4, 'Supervisor', '05/12/2020', null);"
   ]
  }
 ],
 "metadata": {
  "language_info": {
   "name": "python"
  }
 },
 "nbformat": 4,
 "nbformat_minor": 2
}

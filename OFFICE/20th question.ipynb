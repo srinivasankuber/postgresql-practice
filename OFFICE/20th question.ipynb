{
 "cells": [
  {
   "cell_type": "code",
   "execution_count": null,
   "metadata": {
    "vscode": {
     "languageId": "sql"
    }
   },
   "outputs": [],
   "source": [
    "-- 20. Find the position with the highest average salary.\n",
    "       \n",
    "       SELECT \"EmpPosition\", AVG(\"Salary\") AS AverageSalary \n",
    "       FROM workers \n",
    "       WHERE \"Salary\" IS NOT NULL \n",
    "       GROUP BY \"EmpPosition\" \n",
    "       ORDER BY AverageSalary DESC \n",
    "       LIMIT 1;\n"
   ]
  }
 ],
 "metadata": {
  "language_info": {
   "name": "python"
  }
 },
 "nbformat": 4,
 "nbformat_minor": 2
}

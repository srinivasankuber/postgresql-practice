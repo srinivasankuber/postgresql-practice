{
 "cells": [
  {
   "cell_type": "code",
   "execution_count": null,
   "metadata": {
    "vscode": {
     "languageId": "sql"
    }
   },
   "outputs": [],
   "source": [
    "-- 22. Calculate the sum of salaries for employees with 'Manger' positions.\n",
    "       \n",
    "       SELECT SUM(\"Salary\") AS TotalManagerSalary \n",
    "\t   FROM workers \n",
    "\t   WHERE \"EmpPosition\" = 'Manger';"
   ]
  }
 ],
 "metadata": {
  "language_info": {
   "name": "python"
  }
 },
 "nbformat": 4,
 "nbformat_minor": 2
}

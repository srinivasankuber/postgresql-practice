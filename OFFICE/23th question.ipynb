{
 "cells": [
  {
   "cell_type": "code",
   "execution_count": null,
   "metadata": {
    "vscode": {
     "languageId": "sql"
    }
   },
   "outputs": [],
   "source": [
    "  -- 23.Find the employee with the second highest salary.\n",
    "      \n",
    "       SELECT * \n",
    "\t   FROM workers \n",
    "\t   ORDER BY \"Salary\" DESC LIMIT 1 OFFSET 1;"
   ]
  }
 ],
 "metadata": {
  "language_info": {
   "name": "python"
  }
 },
 "nbformat": 4,
 "nbformat_minor": 2
}

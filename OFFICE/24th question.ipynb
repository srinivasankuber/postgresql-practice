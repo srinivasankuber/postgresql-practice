{
 "cells": [
  {
   "cell_type": "code",
   "execution_count": null,
   "metadata": {
    "vscode": {
     "languageId": "sql"
    }
   },
   "outputs": [],
   "source": [
    " -- 24. Retrieve employees whose position starts with 'M'.\n",
    "       \n",
    "       SELECT * \n",
    "\t   FROM workers \n",
    "\t   WHERE \"EmpPosition\" LIKE 'M%';\n",
    "    "
   ]
  }
 ],
 "metadata": {
  "language_info": {
   "name": "python"
  }
 },
 "nbformat": 4,
 "nbformat_minor": 2
}

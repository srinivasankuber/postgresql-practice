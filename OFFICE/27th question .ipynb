{
 "cells": [
  {
   "cell_type": "code",
   "execution_count": null,
   "metadata": {
    "vscode": {
     "languageId": "sql"
    }
   },
   "outputs": [],
   "source": [
    "-- 27.\tRetrieve employees who joined in the month of April 2020.\n",
    "\n",
    "SELECT * \n",
    "FROM workers \n",
    "WHERE \"DateOfJoining\" LIKE '04/2020';\n"
   ]
  }
 ],
 "metadata": {
  "language_info": {
   "name": "python"
  }
 },
 "nbformat": 4,
 "nbformat_minor": 2
}

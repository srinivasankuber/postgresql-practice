{
 "cells": [
  {
   "cell_type": "code",
   "execution_count": null,
   "metadata": {
    "vscode": {
     "languageId": "sql"
    }
   },
   "outputs": [],
   "source": [
    "-- 29. Retrieve employees whose salary is either NULL or greater than 100,000.\n",
    "      \n",
    "       SELECT * \n",
    "\t   FROM workers \n",
    "\t   WHERE \"Salary\" IS NULL OR \"Salary\" > 100000;"
   ]
  }
 ],
 "metadata": {
  "language_info": {
   "name": "python"
  }
 },
 "nbformat": 4,
 "nbformat_minor": 2
}

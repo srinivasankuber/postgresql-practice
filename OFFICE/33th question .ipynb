{
 "cells": [
  {
   "cell_type": "code",
   "execution_count": null,
   "metadata": {
    "vscode": {
     "languageId": "sql"
    }
   },
   "outputs": [],
   "source": [
    "-- 33 sort the table using order by salary column ?\n",
    "\n",
    "select \"pID\", \"EmpPosition\", \"DateOfJoining\", \"Salary\"\n",
    "from workers\n",
    "order by \"Salary\" asc"
   ]
  }
 ],
 "metadata": {
  "language_info": {
   "name": "python"
  }
 },
 "nbformat": 4,
 "nbformat_minor": 2
}

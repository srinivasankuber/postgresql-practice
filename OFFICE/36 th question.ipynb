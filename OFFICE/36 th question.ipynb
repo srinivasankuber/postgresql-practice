{
 "cells": [
  {
   "cell_type": "code",
   "execution_count": null,
   "metadata": {
    "vscode": {
     "languageId": "sql"
    }
   },
   "outputs": [],
   "source": [
    "-- 36 order by all columns by keeping DateOfJoining\n",
    "select \"pID\", \"EmpPosition\", \"DateOfJoining\", \"Salary\"\n",
    "from workers\n",
    "order by \"DateOfJoining\""
   ]
  }
 ],
 "metadata": {
  "language_info": {
   "name": "python"
  }
 },
 "nbformat": 4,
 "nbformat_minor": 2
}

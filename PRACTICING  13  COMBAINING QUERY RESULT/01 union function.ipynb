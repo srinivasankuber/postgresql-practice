{
 "cells": [
  {
   "cell_type": "code",
   "execution_count": null,
   "metadata": {
    "vscode": {
     "languageId": "sql"
    }
   },
   "outputs": [],
   "source": [
    "-- 01 UNION FUNCTION\n",
    "\n",
    "select \"Car\", \"Cylinders\" from cars where \"Cylinders\" = 6\n",
    "union\n",
    "select \"Car\", \"Cylinders\" from cars where \"Origin\" in ('Japan', 'Europe')"
   ]
  }
 ],
 "metadata": {
  "language_info": {
   "name": "python"
  }
 },
 "nbformat": 4,
 "nbformat_minor": 2
}

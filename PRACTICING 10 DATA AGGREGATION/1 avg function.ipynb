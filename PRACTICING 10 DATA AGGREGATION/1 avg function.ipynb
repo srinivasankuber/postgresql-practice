{
 "cells": [
  {
   "cell_type": "code",
   "execution_count": null,
   "metadata": {
    "vscode": {
     "languageId": "sql"
    }
   },
   "outputs": [],
   "source": [
    "--01 AVG FUNCTION\n",
    "select avg(\"Weight\")\n",
    "as avg_weight from cars\n"
   ]
  }
 ],
 "metadata": {
  "language_info": {
   "name": "python"
  }
 },
 "nbformat": 4,
 "nbformat_minor": 2
}

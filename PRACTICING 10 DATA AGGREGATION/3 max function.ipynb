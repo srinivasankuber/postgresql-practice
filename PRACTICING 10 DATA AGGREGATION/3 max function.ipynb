{
 "cells": [
  {
   "cell_type": "code",
   "execution_count": null,
   "metadata": {},
   "outputs": [],
   "source": [
    "--03  MAX FUNCTION\n",
    "select max(\"Weight\")\n",
    "as max_weight from cars"
   ]
  }
 ],
 "metadata": {
  "language_info": {
   "name": "python"
  }
 },
 "nbformat": 4,
 "nbformat_minor": 2
}

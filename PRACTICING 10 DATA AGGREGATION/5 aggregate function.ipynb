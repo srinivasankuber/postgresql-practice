{
 "cells": [
  {
   "cell_type": "code",
   "execution_count": null,
   "metadata": {
    "vscode": {
     "languageId": "sql"
    }
   },
   "outputs": [],
   "source": [
    "-- 05 AGGREGATE FUNCTION\n",
    "\n",
    "select \"car\", \"Weight\" \n",
    "from carswhere \"Weight\" = (select min (\"Weight\") from cars)\n"
   ]
  }
 ],
 "metadata": {
  "language_info": {
   "name": "python"
  }
 },
 "nbformat": 4,
 "nbformat_minor": 2
}

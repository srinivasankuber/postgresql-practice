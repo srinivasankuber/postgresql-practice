{
 "cells": [
  {
   "cell_type": "code",
   "execution_count": null,
   "metadata": {
    "vscode": {
     "languageId": "sql"
    }
   },
   "outputs": [],
   "source": [
    "--07 combaining aggregate functions\n",
    "\n",
    "select count(*) as items,\n",
    "min(\"Wight\") as min_weight,\n",
    "max(\"Weight\") as max_weight,\n",
    "max(\"Weight\") as avg_weight\n",
    "from cars\n"
   ]
  }
 ],
 "metadata": {
  "language_info": {
   "name": "python"
  }
 },
 "nbformat": 4,
 "nbformat_minor": 2
}

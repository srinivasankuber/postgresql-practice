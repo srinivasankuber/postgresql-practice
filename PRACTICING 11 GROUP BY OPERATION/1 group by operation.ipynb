{
 "cells": [
  {
   "cell_type": "code",
   "execution_count": null,
   "metadata": {
    "vscode": {
     "languageId": "sql"
    }
   },
   "outputs": [],
   "source": [
    "--01 GROUP BY fuction\n",
    "\n",
    "select \"Origin\", count(*)\n",
    "from cars group by \"Origin\"\n"
   ]
  }
 ],
 "metadata": {
  "language_info": {
   "name": "python"
  }
 },
 "nbformat": 4,
 "nbformat_minor": 2
}

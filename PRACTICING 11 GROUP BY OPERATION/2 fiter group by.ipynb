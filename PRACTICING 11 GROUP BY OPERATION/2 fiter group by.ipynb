{
 "cells": [
  {
   "cell_type": "code",
   "execution_count": null,
   "metadata": {
    "vscode": {
     "languageId": "sql"
    }
   },
   "outputs": [],
   "source": [
    "--02 FILTER GROUP BY\n",
    "select \"car\" , count(*)\n",
    "from cars group by \"car\"\n",
    "having count(*) >1"
   ]
  }
 ],
 "metadata": {
  "language_info": {
   "name": "python"
  }
 },
 "nbformat": 4,
 "nbformat_minor": 2
}

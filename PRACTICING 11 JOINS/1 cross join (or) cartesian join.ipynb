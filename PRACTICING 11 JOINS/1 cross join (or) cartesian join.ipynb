{
 "cells": [
  {
   "cell_type": "code",
   "execution_count": null,
   "metadata": {
    "vscode": {
     "languageId": "sql"
    }
   },
   "outputs": [],
   "source": [
    "-- 1 CROSS JOIN | CARTESIAN JOIN\n",
    "select students.\"Name\",course.\"Course\" ,course.\"Duration\"\n",
    "from students, course\n"
   ]
  }
 ],
 "metadata": {
  "language_info": {
   "name": "python"
  }
 },
 "nbformat": 4,
 "nbformat_minor": 2
}

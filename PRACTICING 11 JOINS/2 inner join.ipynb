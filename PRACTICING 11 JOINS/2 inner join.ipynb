{
 "cells": [
  {
   "cell_type": "code",
   "execution_count": null,
   "metadata": {
    "vscode": {
     "languageId": "sql"
    }
   },
   "outputs": [],
   "source": [
    "select * from tittle .basics limit 100\n",
    "\n",
    "select * from tittle. ratings limit 100\n",
    "\n",
    "select \"primaryTitle\" \"averageRating\", \"numVotes\"\n",
    "from title.basics, title. ratings\n",
    "where title.basics, \"tconst\" = title.ratings.\"tcoust\"\n",
    "limit 100"
   ]
  }
 ],
 "metadata": {
  "language_info": {
   "name": "python"
  }
 },
 "nbformat": 4,
 "nbformat_minor": 2
}

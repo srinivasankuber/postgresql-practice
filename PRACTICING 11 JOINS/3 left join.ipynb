{
 "cells": [
  {
   "cell_type": "code",
   "execution_count": null,
   "metadata": {
    "vscode": {
     "languageId": "sql"
    }
   },
   "outputs": [],
   "source": [
    "--03 left join\n",
    "\n",
    " select * from basics limit 100\n",
    "\n",
    " select * from ratings limit 100\n",
    "\n",
    "select \"primaryTitle\", \"averageRating\", \"numVotes\"\n",
    "from basics\n",
    "left join ratings\n",
    "on  basics.\"tconst\" = ratings.\"tconst\"\n",
    "limit 100\n"
   ]
  }
 ],
 "metadata": {
  "language_info": {
   "name": "python"
  }
 },
 "nbformat": 4,
 "nbformat_minor": 2
}

{
 "cells": [
  {
   "cell_type": "code",
   "execution_count": null,
   "metadata": {
    "vscode": {
     "languageId": "sql"
    }
   },
   "outputs": [],
   "source": [
    "4 right join\n",
    "\n",
    "select * from title.basics limit 100\n",
    "\n",
    "select * from tittle. ratings limit 100\n",
    "\n",
    "select \"primaryTitle\", \"genres\", \"averageRating\", \"numVotes\"\n",
    "from title. basics\n",
    "right join title.ratings\n",
    "on title. basics. \"tconst\" = title.ratings.\"tconst\"\n",
    "limit 100\n"
   ]
  }
 ],
 "metadata": {
  "language_info": {
   "name": "python"
  }
 },
 "nbformat": 4,
 "nbformat_minor": 2
}

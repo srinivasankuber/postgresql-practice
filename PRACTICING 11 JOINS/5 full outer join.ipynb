{
 "cells": [
  {
   "cell_type": "code",
   "execution_count": null,
   "metadata": {},
   "outputs": [],
   "source": [
    "--  5 full outer join\n",
    "\n",
    "select * from title .basics limit 100\n",
    "\n",
    "select * from title . ratings limit 100\n",
    "\n",
    "select \"primaryTile\", \"genres\",\"averageRatings\", \"numVotes\"\n",
    "from title .basics\n",
    "full outer join title.ratings\n",
    "on title.basics.\"tconst\" = title.ratings.\"tconst\"\n",
    "limit 100\n"
   ]
  }
 ],
 "metadata": {
  "language_info": {
   "name": "python"
  }
 },
 "nbformat": 4,
 "nbformat_minor": 2
}

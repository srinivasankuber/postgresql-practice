{
 "cells": [
  {
   "cell_type": "code",
   "execution_count": null,
   "metadata": {
    "vscode": {
     "languageId": "sql"
    }
   },
   "outputs": [],
   "source": [
    "--01(1) filtering by subquery\n",
    "select \"Car\", \"Cylinders\", \"Weight\"\n",
    "from cars where \"Cylinders\" in \n",
    "(select distinct(\"Cylinders\")\n",
    " from cars where \"Weight\" <2000)\n",
    " order by \"Weight\" desc\n"
   ]
  }
 ],
 "metadata": {
  "language_info": {
   "name": "python"
  }
 },
 "nbformat": 4,
 "nbformat_minor": 2
}

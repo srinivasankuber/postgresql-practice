{
 "cells": [
  {
   "cell_type": "code",
   "execution_count": null,
   "metadata": {
    "vscode": {
     "languageId": "sql"
    }
   },
   "outputs": [],
   "source": [
    "--02  multi-level subquery \n",
    " select \"Car\",\"Cylinders\",\"Weight\" from cars where \"Cylinders\"\n",
    " in (select distinct(\"Cylinders\")from cars where \"Weight\"\n",
    "    in (select min(\"Weight\") from cars where \"Origin\" = 'Japan'))\n",
    "\torder by \"Weight\" desc\n"
   ]
  }
 ],
 "metadata": {
  "language_info": {
   "name": "python"
  }
 },
 "nbformat": 4,
 "nbformat_minor": 2
}

{
 "cells": [
  {
   "cell_type": "code",
   "execution_count": null,
   "metadata": {
    "vscode": {
     "languageId": "sql"
    }
   },
   "outputs": [],
   "source": [
    "--03 comman table expression\n",
    "with cte_cars as(\n",
    "    select \"car\", \"Weight\", \"Origin\", from cars\n",
    "    where \"Origin\" = 'Europe' and \"Cylindres\" > 5\n",
    ")\n",
    "select * from  CTE_CARS where \"Weight\" <4000\n"
   ]
  }
 ],
 "metadata": {
  "language_info": {
   "name": "python"
  }
 },
 "nbformat": 4,
 "nbformat_minor": 2
}

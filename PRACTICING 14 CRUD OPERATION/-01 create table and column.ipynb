{
 "cells": [
  {
   "cell_type": "code",
   "execution_count": null,
   "metadata": {
    "vscode": {
     "languageId": "sql"
    }
   },
   "outputs": [],
   "source": [
    "-- 01 create table and columns\n",
    "CREATE TABLE my_courses\n",
    "(\n",
    "\"Id\" CHAR(3) PRIMARY KEY  NOT NULL,\n",
    "\"Course\" VARCAHR(100) NOT NULL,\n",
    "\"Fee\" INTEGER NOT NULL,\n",
    "\"Duration\" INTEGER NOT NULL\n",
    ")"
   ]
  }
 ],
 "metadata": {
  "language_info": {
   "name": "python"
  }
 },
 "nbformat": 4,
 "nbformat_minor": 2
}

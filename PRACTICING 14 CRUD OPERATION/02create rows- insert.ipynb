{
 "cells": [
  {
   "cell_type": "code",
   "execution_count": null,
   "metadata": {
    "vscode": {
     "languageId": "sql"
    }
   },
   "outputs": [],
   "source": [
    "-- 02 create rows- insert\n",
    "\n",
    "insert into my_courses\n",
    "values('001', 'python for Everyone', 5999, 40)"
   ]
  }
 ],
 "metadata": {
  "language_info": {
   "name": "python"
  }
 },
 "nbformat": 4,
 "nbformat_minor": 2
}

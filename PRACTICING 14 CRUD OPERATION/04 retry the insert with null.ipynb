{
 "cells": [
  {
   "cell_type": "code",
   "execution_count": null,
   "metadata": {
    "vscode": {
     "languageId": "sql"
    }
   },
   "outputs": [],
   "source": [
    "-- 04 retry the insert with null\n",
    "INSERT INTO my_courses\n",
    "VALUES('002','python Advanced Developer', 1199, NULL)"
   ]
  }
 ],
 "metadata": {
  "language_info": {
   "name": "python"
  }
 },
 "nbformat": 4,
 "nbformat_minor": 2
}

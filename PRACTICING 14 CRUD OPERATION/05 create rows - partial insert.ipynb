{
 "cells": [
  {
   "cell_type": "code",
   "execution_count": null,
   "metadata": {
    "vscode": {
     "languageId": "sql"
    }
   },
   "outputs": [],
   "source": [
    "-- 5 create rows - partial insert\n",
    "insert into my_courses \n",
    "(\"ID\", \"Course\", \"Fee\")\n",
    "VALUES\n",
    "('003', 'Python for Datascience', 1199) "
   ]
  }
 ],
 "metadata": {
  "language_info": {
   "name": "python"
  }
 },
 "nbformat": 4,
 "nbformat_minor": 2
}

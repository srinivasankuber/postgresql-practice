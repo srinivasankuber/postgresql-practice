{
 "cells": [
  {
   "cell_type": "code",
   "execution_count": null,
   "metadata": {
    "vscode": {
     "languageId": "sql"
    }
   },
   "outputs": [],
   "source": [
    "-- 10 UPDATE MUTIPLE CELL VALUES\n",
    "\n",
    "UPDATE my_courses\n",
    "SET \"Duration\" = 90, \"Fee\" = 14999\n",
    "where \"Course\" = 'python Advanced Developer'"
   ]
  }
 ],
 "metadata": {
  "language_info": {
   "name": "python"
  }
 },
 "nbformat": 4,
 "nbformat_minor": 2
}

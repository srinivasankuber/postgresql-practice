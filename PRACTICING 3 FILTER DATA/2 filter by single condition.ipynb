{
 "cells": [
  {
   "cell_type": "code",
   "execution_count": null,
   "metadata": {
    "vscode": {
     "languageId": "sql"
    }
   },
   "outputs": [],
   "source": [
    "-- 2 filter by single condition\n",
    "select \"Car\", \"MPG\", \"Cylinders\", \"Displacement\", \"Horsepower\", \"Acceleration\", \"Modal\", \"Origin\"\n",
    "from cars\n",
    "where \"Cylinders\" < 6"
   ]
  }
 ],
 "metadata": {
  "language_info": {
   "name": "python"
  }
 },
 "nbformat": 4,
 "nbformat_minor": 2
}

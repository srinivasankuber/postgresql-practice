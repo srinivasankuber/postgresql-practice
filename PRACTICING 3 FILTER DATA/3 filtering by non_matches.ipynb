{
 "cells": [
  {
   "cell_type": "code",
   "execution_count": null,
   "metadata": {
    "vscode": {
     "languageId": "sql"
    }
   },
   "outputs": [],
   "source": [
    "-- 3 filtering by non-matches\n",
    "select \"Car\", \"MPG\", \"Cylinders\", \"Displacement\", \"Horsepower\", \"Acceleration\", \"Modal\", \"Origin\"\n",
    "from cars\n",
    "where \"Cylinders\" <> 6"
   ]
  }
 ],
 "metadata": {
  "language_info": {
   "name": "python"
  }
 },
 "nbformat": 4,
 "nbformat_minor": 2
}

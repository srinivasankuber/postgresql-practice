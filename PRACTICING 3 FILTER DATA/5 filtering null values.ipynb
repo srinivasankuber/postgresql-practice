{
 "cells": [
  {
   "cell_type": "code",
   "execution_count": null,
   "metadata": {
    "vscode": {
     "languageId": "sql"
    }
   },
   "outputs": [],
   "source": [
    "-- 5 filtering null values\n",
    "select \"Car\", \"MPG\", \"Cylinders\", \"Displacement\", \"Horsepower\", \"Weight\",  \"Acceleration\", \"Modal\", \"Origin\"\n",
    "from cars\n",
    "where \"Cylinders\" is null"
   ]
  }
 ],
 "metadata": {
  "language_info": {
   "name": "python"
  }
 },
 "nbformat": 4,
 "nbformat_minor": 2
}

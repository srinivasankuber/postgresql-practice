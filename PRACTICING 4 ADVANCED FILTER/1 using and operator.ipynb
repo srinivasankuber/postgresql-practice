{
 "cells": [
  {
   "cell_type": "code",
   "execution_count": null,
   "metadata": {
    "vscode": {
     "languageId": "sql"
    }
   },
   "outputs": [],
   "source": [
    "-- 1 using and operator\n",
    "select \"Car\", \"MPG\", \"Cylinders\", \"Weight\"\n",
    "from cars\n",
    "where  \"Cylinders\" = 6 and \"MPG\" = 17"
   ]
  }
 ],
 "metadata": {
  "language_info": {
   "name": "python"
  }
 },
 "nbformat": 4,
 "nbformat_minor": 2
}

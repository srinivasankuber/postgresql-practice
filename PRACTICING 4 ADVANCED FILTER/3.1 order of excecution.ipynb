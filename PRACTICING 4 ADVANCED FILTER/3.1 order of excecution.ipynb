{
 "cells": [
  {
   "cell_type": "code",
   "execution_count": null,
   "metadata": {},
   "outputs": [],
   "source": [
    "-- 3.1 order of excecution\n",
    "\n",
    "select \"Car\", \"MPG\", \"Cylinders\", \"Weight\"\n",
    "from cars\n",
    "where (\"MPG\" = 17 or \"MPG\" = 16) and \"Cylinders\" = 6"
   ]
  }
 ],
 "metadata": {
  "language_info": {
   "name": "python"
  }
 },
 "nbformat": 4,
 "nbformat_minor": 2
}

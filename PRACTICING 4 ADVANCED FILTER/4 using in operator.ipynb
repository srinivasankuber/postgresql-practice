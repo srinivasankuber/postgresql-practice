{
 "cells": [
  {
   "cell_type": "code",
   "execution_count": null,
   "metadata": {},
   "outputs": [],
   "source": [
    "-- 4 using in operator\n",
    "select \"Car\", \"MPG\", \"Cylinders\", \"Weight\"\n",
    "from cars\n",
    "where  \"MPG\" in (15, 16, 18)"
   ]
  }
 ],
 "metadata": {
  "language_info": {
   "name": "python"
  }
 },
 "nbformat": 4,
 "nbformat_minor": 2
}

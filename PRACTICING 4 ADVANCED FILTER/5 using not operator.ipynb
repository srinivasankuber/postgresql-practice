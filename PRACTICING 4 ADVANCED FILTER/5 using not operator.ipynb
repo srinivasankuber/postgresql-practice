{
 "cells": [
  {
   "cell_type": "code",
   "execution_count": null,
   "metadata": {
    "vscode": {
     "languageId": "sql"
    }
   },
   "outputs": [],
   "source": [
    "-- 5 using not operator\n",
    "select \"Car\", \"MPG\", \"Cylinders\",\"Weight\"\n",
    "from cars\n",
    "where not \"MPG\" = 17"
   ]
  }
 ],
 "metadata": {
  "language_info": {
   "name": "python"
  }
 },
 "nbformat": 4,
 "nbformat_minor": 2
}

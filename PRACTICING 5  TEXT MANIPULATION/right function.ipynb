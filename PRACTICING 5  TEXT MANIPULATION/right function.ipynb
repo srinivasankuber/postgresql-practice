{
 "cells": [
  {
   "cell_type": "code",
   "execution_count": null,
   "metadata": {
    "vscode": {
     "languageId": "sql"
    }
   },
   "outputs": [],
   "source": [
    "2 right function\n",
    " select right (\"Car\", 6)\n",
    " from cars"
   ]
  }
 ],
 "metadata": {
  "language_info": {
   "name": "python"
  }
 },
 "nbformat": 4,
 "nbformat_minor": 2
}

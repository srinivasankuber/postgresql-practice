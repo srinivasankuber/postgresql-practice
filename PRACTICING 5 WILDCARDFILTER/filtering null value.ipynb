{
 "cells": [
  {
   "cell_type": "code",
   "execution_count": null,
   "metadata": {
    "vscode": {
     "languageId": "sql"
    }
   },
   "outputs": [],
   "source": [
    "--its is back of 4 range of values\n",
    "filtering NULL value\n",
    "select \"car\" , \"MPG\" , \"Cylinders\" , \"Weight\"\n",
    "from cars\n",
    "where \"Cylinders\" is null"
   ]
  }
 ],
 "metadata": {
  "language_info": {
   "name": "python"
  }
 },
 "nbformat": 4,
 "nbformat_minor": 2
}

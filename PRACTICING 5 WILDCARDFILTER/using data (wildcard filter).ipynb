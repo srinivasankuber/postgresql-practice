{
 "cells": [
  {
   "cell_type": "code",
   "execution_count": null,
   "metadata": {},
   "outputs": [],
   "source": [
    "--FILTER DATA (WILDCARD FILTER)\n",
    "--USING LIKE %OPERATOR\n",
    "select \"car\" ,\"MPG\" ,\"Cylinders\" ,\"Weight\" from cars\n",
    "where \"car\" like 'Ford%'"
   ]
  }
 ],
 "metadata": {
  "language_info": {
   "name": "python"
  }
 },
 "nbformat": 4,
 "nbformat_minor": 2
}

{
 "cells": [
  {
   "cell_type": "code",
   "execution_count": null,
   "metadata": {},
   "outputs": [],
   "source": [
    "--USING LIKE_OPERATOR\n",
    "select \"Car\" ,\"MPG\" ,\"Cylinders\" ,\"Weight\" from cars\n",
    "where \"Car\" like '%Skylark ___'"
   ]
  }
 ],
 "metadata": {
  "language_info": {
   "name": "python"
  }
 },
 "nbformat": 4,
 "nbformat_minor": 2
}

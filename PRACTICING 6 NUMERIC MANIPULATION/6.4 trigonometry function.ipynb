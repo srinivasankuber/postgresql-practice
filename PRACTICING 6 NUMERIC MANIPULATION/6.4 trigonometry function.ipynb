{
 "cells": [
  {
   "cell_type": "code",
   "execution_count": null,
   "metadata": {},
   "outputs": [],
   "source": [
    "6.4 trigonometry function\n",
    "select \"Car\", \"MPG\",\n",
    "sin(radians (\"MPG\")),\n",
    "cos(radians (\"MPG\")),\n",
    "tan(radians (\"MPG\"))\n",
    "from cars"
   ]
  }
 ],
 "metadata": {
  "language_info": {
   "name": "python"
  }
 },
 "nbformat": 4,
 "nbformat_minor": 2
}

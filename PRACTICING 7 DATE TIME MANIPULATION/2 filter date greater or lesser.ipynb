{
 "cells": [
  {
   "cell_type": "code",
   "execution_count": null,
   "metadata": {
    "vscode": {
     "languageId": "sql"
    }
   },
   "outputs": [],
   "source": [
    "-- 2 filter date greater or lesser\n",
    "\n",
    "select \"name\", \"start_date\", \"end_date\"\n",
    "from students\n",
    "where \"start_date\" > '2022-07-22'\n"
   ]
  }
 ],
 "metadata": {
  "language_info": {
   "name": "python"
  }
 },
 "nbformat": 4,
 "nbformat_minor": 2
}

{
 "cells": [
  {
   "cell_type": "code",
   "execution_count": null,
   "metadata": {
    "vscode": {
     "languageId": "sql"
    }
   },
   "outputs": [],
   "source": [
    "-- 3 filter date between range\n",
    "\n",
    "select \"name\", \"start_date\", \"end_date\"\n",
    "from students\n",
    "where start_date\n",
    "between '2022-08-01' and '2022-08-30'"
   ]
  }
 ],
 "metadata": {
  "language_info": {
   "name": "python"
  }
 },
 "nbformat": 4,
 "nbformat_minor": 2
}

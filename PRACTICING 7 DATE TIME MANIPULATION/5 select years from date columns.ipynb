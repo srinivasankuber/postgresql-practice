{
 "cells": [
  {
   "cell_type": "code",
   "execution_count": null,
   "metadata": {
    "vscode": {
     "languageId": "sql"
    }
   },
   "outputs": [],
   "source": [
    "-- 5 select years from date columns\n",
    "\n",
    "select \"name\",\n",
    "extract(year from \"end_date\") as  \"joined year\"\n",
    "from students"
   ]
  }
 ],
 "metadata": {
  "language_info": {
   "name": "python"
  }
 },
 "nbformat": 4,
 "nbformat_minor": 2
}

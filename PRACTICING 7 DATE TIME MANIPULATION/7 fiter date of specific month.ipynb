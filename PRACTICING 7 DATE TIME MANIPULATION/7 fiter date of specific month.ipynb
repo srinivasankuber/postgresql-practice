{
 "cells": [
  {
   "cell_type": "code",
   "execution_count": null,
   "metadata": {
    "vscode": {
     "languageId": "sql"
    }
   },
   "outputs": [],
   "source": [
    "-- 7 fiter date of specific month\n",
    "select \"name\", \"start_date\"\n",
    "from students\n",
    "where extract(month from \"start_date\") = 8"
   ]
  }
 ],
 "metadata": {
  "language_info": {
   "name": "python"
  }
 },
 "nbformat": 4,
 "nbformat_minor": 2
}

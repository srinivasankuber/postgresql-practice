{
 "cells": [
  {
   "cell_type": "code",
   "execution_count": null,
   "metadata": {
    "vscode": {
     "languageId": "sql"
    }
   },
   "outputs": [],
   "source": [
    "-- 1 case when\n",
    "\n",
    "select \"Origin\",\n",
    "case\n",
    "    when \"Origin\" = 'US' THEN 1\n",
    "    when \"Origin\" = 'Japan' then 2\n",
    "    when \"Origin\" = 'Europe' then 3\n",
    "end as \"OriginMap\"\n",
    "from cars"
   ]
  }
 ],
 "metadata": {
  "language_info": {
   "name": "python"
  }
 },
 "nbformat": 4,
 "nbformat_minor": 2
}

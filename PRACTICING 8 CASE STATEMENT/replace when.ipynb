{
 "cells": [
  {
   "cell_type": "code",
   "execution_count": null,
   "metadata": {
    "vscode": {
     "languageId": "sql"
    }
   },
   "outputs": [],
   "source": [
    "-- replace function\n",
    "\n",
    "SELECT REPLACE(\"origin\", 'US', 'USA') AS replaced_column\n",
    "FROM cars;\n"
   ]
  }
 ],
 "metadata": {
  "language_info": {
   "name": "python"
  }
 },
 "nbformat": 4,
 "nbformat_minor": 2
}

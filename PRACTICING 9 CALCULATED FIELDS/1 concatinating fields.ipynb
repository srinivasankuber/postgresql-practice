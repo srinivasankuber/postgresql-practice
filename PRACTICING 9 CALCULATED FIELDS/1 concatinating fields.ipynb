{
 "cells": [
  {
   "cell_type": "code",
   "execution_count": null,
   "metadata": {
    "vscode": {
     "languageId": "sql"
    }
   },
   "outputs": [],
   "source": [
    "-- 1 concatinating fields\n",
    "\n",
    "select \"Car\"||'  '||\"Origin\" \n",
    "from cars\n"
   ]
  }
 ],
 "metadata": {
  "language_info": {
   "name": "python"
  }
 },
 "nbformat": 4,
 "nbformat_minor": 2
}

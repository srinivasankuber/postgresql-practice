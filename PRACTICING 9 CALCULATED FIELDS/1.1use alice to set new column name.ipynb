{
 "cells": [
  {
   "cell_type": "code",
   "execution_count": null,
   "metadata": {
    "vscode": {
     "languageId": "sql"
    }
   },
   "outputs": [],
   "source": [
    "-- use alice to set new column name\n",
    "\n",
    "select \"Car\"||' '||\"Origin\" as \"Car&Origin\"\n",
    "from cars\n"
   ]
  }
 ],
 "metadata": {
  "language_info": {
   "name": "python"
  }
 },
 "nbformat": 4,
 "nbformat_minor": 2
}

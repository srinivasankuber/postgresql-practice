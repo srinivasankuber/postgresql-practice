{
 "cells": [
  {
   "cell_type": "code",
   "execution_count": null,
   "metadata": {},
   "outputs": [],
   "source": [
    "+------\n",
    "\n",
    "                                HUMAN RESOURSE INFORMATION SYSTEM MANAGEMENT ER DIAGREM\n",
    "                                \n",
    "            \n",
    "----------+           +----------------+          +-------------+\n",
    "|  Departments   |           |   Roles        |          |   Employees |\n",
    "|----------------|           |----------------|          |-------------|\n",
    "| department_id  |<---------+| department_id  |          | department_id|\n",
    "| department_name|          || role_id        |--------->| role_id      |\n",
    "| manager_id     |          || role_name      |          | employee_id  |\n",
    "| location       |          || description    |          | first_name   |\n",
    "+----------------+          | +---------------+          | last_name    |\n",
    "                            |                           | hire_date    |\n",
    "                            |                           | salary       |\n",
    "                            |                           | email        |\n",
    "                            |                           | phone_number |\n",
    "                            |                           +-------------+\n",
    "                            |\n",
    "+----------------+          +----------------+           +-------------+\n",
    "|   Payroll      |          |   Benefits     |           |  Attendance |\n",
    "|----------------|          |----------------|           |-------------|\n",
    "| payroll_id     |          | benefit_id     |           | attendance_id|\n",
    "| employee_id    |--------->| employee_id    |---------> | employee_id  |\n",
    "| pay_period     |          | benefit_type   |           | date         |\n",
    "| basic_salary   |          | description    |           | check_in_time|\n",
    "| overtime       |          | start_date     |           | check_out_time|\n",
    "| bonuses        |          | end_date       |           | status       |\n",
    "| deductions     |          +----------------+           +-------------+\n",
    "| net_pay        |\n",
    "+----------------+\n",
    " \n",
    "+----------------+           +----------------+          +-------------+\n",
    "|   Performance  |           |   Managers     |          |  Reviewers  |\n",
    "|----------------|           |----------------|          |-------------|\n",
    "| performance_id |           | manager_id     |          | reviewer_id |\n",
    "| employee_id    |---------> | first_name     |          | first_name  |\n",
    "| review_date    |           | last_name      |          | last_name   |\n",
    "| reviewer_id    |---------> | email          |          | email       |\n",
    "| performance_score |        | phone_number   |          | phone_number|\n",
    "                        |           | department_id |--------->| department_id|\n",
    "                        |           | hire_date     |          | hire_date    |\n",
    "                        |           | salary        |          | reviewer_level|\n",
    "                        |           | manager_level |          | status       |\n",
    "                        |           | status        |          +-------------+\n",
    "                        |           +----------------+                  \n",
    "                        |           \n",
    "                        |           \n",
    "                        +           \n"
   ]
  }
 ],
 "metadata": {
  "language_info": {
   "name": "python"
  }
 },
 "nbformat": 4,
 "nbformat_minor": 2
}

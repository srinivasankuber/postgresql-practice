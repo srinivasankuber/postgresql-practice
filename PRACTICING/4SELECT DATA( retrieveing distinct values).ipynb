{
 "cells": [
  {
   "cell_type": "code",
   "execution_count": null,
   "metadata": {
    "vscode": {
     "languageId": "sql"
    }
   },
   "outputs": [],
   "source": [
    "--4 retrieveing distinct values\n",
    "\n",
    "select distinct \"Car\"\n",
    "from cars"
   ]
  }
 ],
 "metadata": {
  "language_info": {
   "name": "python"
  }
 },
 "nbformat": 4,
 "nbformat_minor": 2
}

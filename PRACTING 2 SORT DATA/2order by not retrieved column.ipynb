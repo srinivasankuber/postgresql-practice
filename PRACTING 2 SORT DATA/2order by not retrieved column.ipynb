{
 "cells": [
  {
   "cell_type": "code",
   "execution_count": null,
   "metadata": {
    "vscode": {
     "languageId": "sql"
    }
   },
   "outputs": [],
   "source": [
    "-- 2 order by not retrievd column\n",
    "select \"Car\"\n",
    "from cars\n",
    "order by \"Cylinders\""
   ]
  },
  {
   "cell_type": "code",
   "execution_count": null,
   "metadata": {
    "vscode": {
     "languageId": "sql"
    }
   },
   "outputs": [],
   "source": [
    "-- 2 order by not retrievd column\n",
    "select \"Car\"\n",
    "from cars\n",
    "order by \"Cylinders\""
   ]
  }
 ],
 "metadata": {
  "language_info": {
   "name": "python"
  }
 },
 "nbformat": 4,
 "nbformat_minor": 2
}

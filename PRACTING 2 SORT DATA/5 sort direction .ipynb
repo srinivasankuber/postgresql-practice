{
 "cells": [
  {
   "cell_type": "code",
   "execution_count": null,
   "metadata": {
    "vscode": {
     "languageId": "sql"
    }
   },
   "outputs": [],
   "source": [
    "-- 5 sort direction \n",
    "select \"Car\", \"MPG\", \"Cylinders\", \"Weight\"\n",
    "from cars\n",
    "order by \"MPG\" desc, 3 asc\n"
   ]
  }
 ],
 "metadata": {
  "language_info": {
   "name": "python"
  }
 },
 "nbformat": 4,
 "nbformat_minor": 2
}

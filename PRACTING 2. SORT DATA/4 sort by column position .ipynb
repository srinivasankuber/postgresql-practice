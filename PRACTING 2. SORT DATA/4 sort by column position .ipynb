{
 "cells": [
  {
   "cell_type": "code",
   "execution_count": null,
   "metadata": {
    "vscode": {
     "languageId": "sql"
    }
   },
   "outputs": [],
   "source": [
    "-- 4 sort by column position \n",
    "select \"Car\", \"MPG\", \"Cylinders\", \"Weight\"\n",
    "from cars\n",
    "order by 2,3"
   ]
  }
 ],
 "metadata": {
  "language_info": {
   "name": "python"
  }
 },
 "nbformat": 4,
 "nbformat_minor": 2
}

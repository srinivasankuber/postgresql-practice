{
 "cells": [
  {
   "cell_type": "code",
   "execution_count": null,
   "metadata": {
    "vscode": {
     "languageId": "sql"
    }
   },
   "outputs": [],
   "source": [
    "-- variables 1\n",
    "do $$\n",
    "declare\n",
    "\n",
    "   first_name varchar(50) = 'Variablz';\n",
    "   last_name  varchar(50) = 'Academy';\n",
    "\n",
    "begin\n",
    "\n",
    "   raise notice 'First Name:%, Last name:%',\n",
    "\n",
    "       first_name,\n",
    "       last_name;\n",
    "end $$"
   ]
  }
 ],
 "metadata": {
  "language_info": {
   "name": "python"
  }
 },
 "nbformat": 4,
 "nbformat_minor": 2
}

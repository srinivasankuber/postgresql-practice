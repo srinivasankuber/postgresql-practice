{
 "cells": [
  {
   "cell_type": "code",
   "execution_count": null,
   "metadata": {
    "vscode": {
     "languageId": "sql"
    }
   },
   "outputs": [],
   "source": [
    "--copying data type \n",
    "do\n",
    "$$\n",
    "declare\n",
    "   car_name cars.\"Car\"%type;\n",
    "   origin_name cars.\"Origin\"%type;\n",
    "begin\n",
    "\n",
    "   select \"Car\", \"Origin\"\n",
    "   from cars\n",
    "   into car_name, origin_name\n",
    "   where \"Car\" = 'Ford Torino';\n",
    "\n",
    "   raise notice\n",
    "   'car name: %\n",
    "          origin name : %', car_name, origin_name;\n",
    "end; $$;"
   ]
  }
 ],
 "metadata": {
  "language_info": {
   "name": "python"
  }
 },
 "nbformat": 4,
 "nbformat_minor": 2
}

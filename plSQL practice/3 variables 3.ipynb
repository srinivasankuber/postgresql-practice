{
 "cells": [
  {
   "cell_type": "code",
   "execution_count": null,
   "metadata": {
    "vscode": {
     "languageId": "sql"
    }
   },
   "outputs": [],
   "source": [
    "--3 select into\n",
    "\n",
    "do\n",
    "$$\n",
    "declare\n",
    "    car_name varchar;\n",
    "    cylinder int;\n",
    "    origin_name varchar;\n",
    "begin\n",
    "    select \"Car\", \"Cylinders\", \"Origin\"\n",
    "    into car_name, cylinder, origin_name\n",
    "    from cars\n",
    "    where \"Car\" = 'Ford Torino';\n",
    "    raise notice 'car name: %, clinders: %,origin: %',\n",
    "    car_name,cylinder,origin_name;\n",
    "end;\n",
    "$$"
   ]
  }
 ],
 "metadata": {
  "language_info": {
   "name": "python"
  }
 },
 "nbformat": 4,
 "nbformat_minor": 2
}

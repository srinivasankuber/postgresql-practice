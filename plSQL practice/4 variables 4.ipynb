{
 "cells": [
  {
   "cell_type": "code",
   "execution_count": null,
   "metadata": {
    "vscode": {
     "languageId": "sql"
    }
   },
   "outputs": [],
   "source": [
    "--4 rowtype\n",
    "\n",
    "do\n",
    "$$\n",
    "declare\n",
    "   selected_car cars%rowtype;\n",
    "begin\n",
    "\n",
    "select *\n",
    "from cars\n",
    "into selected_car\n",
    "where \"Cylinders\" is null;\n",
    "raise notice\n",
    "' car name : %\n",
    "  cylinders : %\n",
    "  weight : %\n",
    "  origin : %' ,\n",
    "    selected_car.\"Car\",\n",
    "    selected_car.\"Cylinders\",\n",
    "    selected_car. \"Weight\",\n",
    "    selected_car. \"Origin\";\n",
    "end;\n",
    "$$;\n",
    "\n",
    "\n",
    "   "
   ]
  }
 ],
 "metadata": {
  "language_info": {
   "name": "python"
  }
 },
 "nbformat": 4,
 "nbformat_minor": 2
}

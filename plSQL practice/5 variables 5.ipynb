{
 "cells": [
  {
   "cell_type": "code",
   "execution_count": null,
   "metadata": {
    "vscode": {
     "languageId": "sql"
    }
   },
   "outputs": [],
   "source": [
    "--5 record type\n",
    "\n",
    "do\n",
    "$$\n",
    "declare\n",
    "   rec record;\n",
    "begin\n",
    "\n",
    "   select \"Car\", \"Weight\", \"Origin\"\n",
    "   into rec\n",
    "   from cars\n",
    "   where \"Car\" = 'Ford Torino';\n",
    "\n",
    "   raise notice 'name :%, \"Weight :%, Origin :%',rec.\"Car\",rec.\"Weight\", rec.\"Origin\";\n",
    "end;\n",
    "$$\n",
    "language plpgsql;"
   ]
  }
 ],
 "metadata": {
  "language_info": {
   "name": "python"
  }
 },
 "nbformat": 4,
 "nbformat_minor": 2
}

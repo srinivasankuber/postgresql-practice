{
 "cells": [
  {
   "cell_type": "code",
   "execution_count": null,
   "metadata": {
    "vscode": {
     "languageId": "sql"
    }
   },
   "outputs": [],
   "source": [
    "--6 constant\n",
    "do $$\n",
    "declare\n",
    "--vat means value added tax\n",
    "  vat constant numeric = 0.1;\n",
    "  net_price numeric = 20.5;\n",
    "begin\n",
    "  raise notice 'the selling price is %', net_price * (1 + vat);\n",
    "end $$;"
   ]
  }
 ],
 "metadata": {
  "language_info": {
   "name": "python"
  }
 },
 "nbformat": 4,
 "nbformat_minor": 2
}

{
 "cells": [
  {
   "cell_type": "code",
   "execution_count": null,
   "metadata": {
    "vscode": {
     "languageId": "sql"
    }
   },
   "outputs": [],
   "source": [
    "do \n",
    "$$\n",
    "declare\n",
    "  records cars%rowtype;\n",
    "  car_name cars.\"Car\"%type = 'BMW';\n",
    "begin\n",
    "\n",
    "  select * from cars\n",
    "  into records\n",
    "  where \"Car\" = car_name;\n",
    "\n",
    "  if not found then \n",
    "     raise notice 'This % car could not be found',\n",
    "        car_name;\n",
    "  else\n",
    "     raise notice'This % car could be found',\n",
    "        car_name;\n",
    "  end if;\n",
    "end $$;"
   ]
  }
 ],
 "metadata": {
  "language_info": {
   "name": "python"
  }
 },
 "nbformat": 4,
 "nbformat_minor": 2
}

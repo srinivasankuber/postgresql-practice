{
 "cells": [
  {
   "cell_type": "code",
   "execution_count": null,
   "metadata": {
    "vscode": {
     "languageId": "sql"
    }
   },
   "outputs": [],
   "source": [
    "--if then elsif \n",
    "do $$\n",
    "declare\n",
    "  res cars%rowtype;\n",
    "  car_description varchar(100);\n",
    "begin\n",
    "\n",
    "  select * into res from cars\n",
    "  where \"Car\" = 'Ford Torino';\n",
    "\n",
    "  if not found then \n",
    "     raise notice 'car not found';\n",
    "  else\n",
    "     if res.\"Cylinders\" > 2 and res.\"Cylinders\" < 3 then\n",
    "        car_description := 'Light weight vehicle';\n",
    "     elsif res.\"Cylinders\" > 4 and res.\"Cylinders\" < 6 then\n",
    "        car_description := 'Medium weight vehicle';\n",
    "     elsif res.\"Cylinders\" >= 8 then\n",
    "        car_description := 'Heavy weight vehicle';\n",
    "     else\n",
    "        car_description := 'null cylinders';\n",
    "     end if;\n",
    "\n",
    "     raise notice 'The % car is %',\n",
    "        res.\"Car\",\n",
    "        car_description;\n",
    "  end if;\n",
    "end $$; \n"
   ]
  }
 ],
 "metadata": {
  "language_info": {
   "name": "python"
  }
 },
 "nbformat": 4,
 "nbformat_minor": 2
}

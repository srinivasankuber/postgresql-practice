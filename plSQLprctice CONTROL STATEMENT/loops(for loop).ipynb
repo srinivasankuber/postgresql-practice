{
 "cells": [
  {
   "cell_type": "code",
   "execution_count": null,
   "metadata": {
    "vscode": {
     "languageId": "sql"
    }
   },
   "outputs": [],
   "source": [
    "--for loop\n",
    "do\n",
    "$$\n",
    "begin\n",
    "   for counter in  1..5 loop\n",
    "   raise notice 'counter: %', counter;\n",
    "   end loop;\n",
    "end;\n",
    "$$;\n",
    "\n",
    "\n",
    "do\n",
    "$$\n",
    "declare\n",
    "    f record;\n",
    "begin\n",
    "    for f in select \"Car\",\"Origin\"\n",
    "          from cars limit 10\n",
    "    loop\n",
    "    raise notice '%(%)', f.\"Car\",f.\"Origin\";\n",
    "    end loop;\n",
    "end;\n",
    "$$   "
   ]
  }
 ],
 "metadata": {
  "language_info": {
   "name": "python"
  }
 },
 "nbformat": 4,
 "nbformat_minor": 2
}

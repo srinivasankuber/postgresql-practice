{
 "cells": [
  {
   "cell_type": "code",
   "execution_count": null,
   "metadata": {
    "vscode": {
     "languageId": "sql"
    }
   },
   "outputs": [],
   "source": [
    "--for loop\n",
    "do\n",
    "$$\n",
    "begin\n",
    "   for counter in reverse 10..1 by 2 loop\n",
    "   raise notice 'counter: %', counter;\n",
    "   end loop;\n",
    "end;\n",
    "$$;"
   ]
  }
 ],
 "metadata": {
  "language_info": {
   "name": "python"
  }
 },
 "nbformat": 4,
 "nbformat_minor": 2
}
